{
 "cells": [
  {
   "cell_type": "markdown",
   "metadata": {
    "id": "SrVoYtnNZpVd"
   },
   "source": [
    "**Comprehension - RFM Analysis**\n",
    "\n",
    "In this segment, you will be attempting some assessments based on RFM analysis. RFM analysis(https://en.wikipedia.org/wiki/RFM_(market_research)) is a common practice in marketing to group customers. In RFM, R stands for “recency,” which means how recently the customer purchased, F stands for “frequency,” which means how frequently they are buying, and M stands for “monetary value,” which indicates how much they spend. For example, suppose a customer has 30 recency, 50 frequency, and 1000 monetary value. In that case, it means that the customer has not made any purchase in the previous 30 days, but he has made 50 purchases in the last one year with a total amount of $1000.\n",
    "\n",
    "An online store wanted to run its new marketing campaign, for which they wanted to perform customer segmentation so they could run a targeted campaign for each group of customers.\n",
    "This task was given to a data scientist, and they provided him with the data for the past one year to perform customer segmentation. The dataset was segregated based on order, with each entry having a unique invoice id. To perform clustering on customers, he aggregates the dataset at the customer level such that each entry has a unique customer id. To execute this, he performed “RFM Analysis.”\n",
    "\n",
    "After performing RFM analysis, the obtained data has been put into a DataFrame and given to you for further analysis. The data has the following RFM attributes:\n",
    "\n",
    "*   **CustomerID**: Unique ID of the customers\n",
    "*   **recency**: How recently the customer has purchased from the store (in days)\n",
    "\n",
    "*   **frequency**: how frequently the customer has purchased in a year\n",
    "\n",
    "*   **amount**: how much the customer has spent (in dollars)\n",
    "\n",
    "\n",
    "\n",
    "\n",
    "\n",
    "\n",
    "\n"
   ]
  },
  {
   "cell_type": "code",
   "execution_count": 1,
   "metadata": {
    "id": "DYuFCdIkp2Bb"
   },
   "outputs": [],
   "source": [
    "# importing all the relevant libraries\n",
    "import numpy as np\n",
    "import pandas as pd\n",
    "\n",
    "import matplotlib.pyplot as plt\n",
    "import seaborn as sns\n",
    "sns.set()"
   ]
  },
  {
   "cell_type": "code",
   "execution_count": 2,
   "metadata": {
    "id": "2VMEn5tAqouy"
   },
   "outputs": [
    {
     "data": {
      "text/html": [
       "<div>\n",
       "<style scoped>\n",
       "    .dataframe tbody tr th:only-of-type {\n",
       "        vertical-align: middle;\n",
       "    }\n",
       "\n",
       "    .dataframe tbody tr th {\n",
       "        vertical-align: top;\n",
       "    }\n",
       "\n",
       "    .dataframe thead th {\n",
       "        text-align: right;\n",
       "    }\n",
       "</style>\n",
       "<table border=\"1\" class=\"dataframe\">\n",
       "  <thead>\n",
       "    <tr style=\"text-align: right;\">\n",
       "      <th></th>\n",
       "      <th>CustomerID</th>\n",
       "      <th>amount</th>\n",
       "      <th>frequency</th>\n",
       "      <th>recency</th>\n",
       "    </tr>\n",
       "  </thead>\n",
       "  <tbody>\n",
       "    <tr>\n",
       "      <th>0</th>\n",
       "      <td>12346.0</td>\n",
       "      <td>0.00</td>\n",
       "      <td>2</td>\n",
       "      <td>325</td>\n",
       "    </tr>\n",
       "    <tr>\n",
       "      <th>1</th>\n",
       "      <td>12347.0</td>\n",
       "      <td>4310.00</td>\n",
       "      <td>182</td>\n",
       "      <td>1</td>\n",
       "    </tr>\n",
       "    <tr>\n",
       "      <th>2</th>\n",
       "      <td>12348.0</td>\n",
       "      <td>1797.24</td>\n",
       "      <td>31</td>\n",
       "      <td>74</td>\n",
       "    </tr>\n",
       "    <tr>\n",
       "      <th>3</th>\n",
       "      <td>12349.0</td>\n",
       "      <td>1757.55</td>\n",
       "      <td>73</td>\n",
       "      <td>18</td>\n",
       "    </tr>\n",
       "    <tr>\n",
       "      <th>4</th>\n",
       "      <td>12350.0</td>\n",
       "      <td>334.40</td>\n",
       "      <td>17</td>\n",
       "      <td>309</td>\n",
       "    </tr>\n",
       "  </tbody>\n",
       "</table>\n",
       "</div>"
      ],
      "text/plain": [
       "   CustomerID   amount  frequency  recency\n",
       "0     12346.0     0.00          2      325\n",
       "1     12347.0  4310.00        182        1\n",
       "2     12348.0  1797.24         31       74\n",
       "3     12349.0  1757.55         73       18\n",
       "4     12350.0   334.40         17      309"
      ]
     },
     "execution_count": 2,
     "metadata": {},
     "output_type": "execute_result"
    }
   ],
   "source": [
    "# load the data and store it in \"rfm_df\" variable\n",
    "\n",
    "rfm_df = pd.read_csv('rfm_data.csv')\n",
    "rfm_df.head()"
   ]
  },
  {
   "cell_type": "markdown",
   "metadata": {
    "id": "ZEVobk50uHiH"
   },
   "source": [
    "**Q1** - Removing outliers is a very important step before performing any clustering algorithm in order to get better clusters. Set the CustomerID column as index and perform outliers treatment for all the columns. After removing the outliers, what is the average amount spent (in dollars)? (Round off the answer to the nearest two digits)\n",
    "\n",
    "Note - The code for this has already been provided\n",
    "\n",
    "a. 1521.41\n",
    "\n",
    "b. 1340.34\n",
    "\n",
    "c. 1142.42\n",
    "\n",
    "d. 1270.41\n"
   ]
  },
  {
   "cell_type": "code",
   "execution_count": 3,
   "metadata": {
    "id": "hujvhGbThyP1"
   },
   "outputs": [],
   "source": [
    "#set the CustomerID column as index\n",
    "rfm_df = rfm_df.set_index('CustomerID')"
   ]
  },
  {
   "cell_type": "code",
   "execution_count": 4,
   "metadata": {
    "id": "OpWjy0-vY9N6"
   },
   "outputs": [],
   "source": [
    "#run this cell of code to remove outliers\n",
    "\n",
    "#for amount\n",
    "Q1 = rfm_df.amount.quantile(0.05)\n",
    "Q3 = rfm_df.amount.quantile(0.95)\n",
    "IQR = Q3 - Q1\n",
    "rfm_df = rfm_df[(rfm_df.amount >= Q1 - 1.5*IQR) & (rfm_df.amount <= Q3 + 1.5*IQR)]\n",
    "\n",
    "#for recency\n",
    "Q1 = rfm_df.recency.quantile(0.05)\n",
    "Q3 = rfm_df.recency.quantile(0.95)\n",
    "IQR = Q3 - Q1\n",
    "rfm_df = rfm_df[(rfm_df.recency >= Q1 - 1.5*IQR) & (rfm_df.recency <= Q3 + 1.5*IQR)]\n",
    "\n",
    "#for frequency\n",
    "Q1 = rfm_df.frequency.quantile(0.05)\n",
    "Q3 = rfm_df.frequency.quantile(0.95)\n",
    "IQR = Q3 - Q1\n",
    "rfm_df = rfm_df[(rfm_df.frequency >= Q1 - 1.5*IQR) & (rfm_df.frequency <= Q3 + 1.5*IQR)]"
   ]
  },
  {
   "cell_type": "code",
   "execution_count": 5,
   "metadata": {},
   "outputs": [
    {
     "data": {
      "text/plain": [
       "1270.4114637782416"
      ]
     },
     "execution_count": 5,
     "metadata": {},
     "output_type": "execute_result"
    }
   ],
   "source": [
    "#Calculate the average amount spent\n",
    "rfm_df['amount'].mean()"
   ]
  },
  {
   "cell_type": "markdown",
   "metadata": {
    "id": "pC2EsAMeO2HO"
   },
   "source": [
    "**Q2** - Now in the next steps, you have to standardize the data and perform the K-means clustering using the default number of initial cluster means. Which of the following cluster has the maximum number of observations?\n",
    "\n",
    "a. Cluster 2\n",
    "\n",
    "b. Cluster 4\n",
    "\n",
    "c. Cluster 8\n",
    "\n",
    "d. Cluster 7\n"
   ]
  },
  {
   "cell_type": "code",
   "execution_count": 6,
   "metadata": {
    "id": "T9QGq6O0q0Xi"
   },
   "outputs": [],
   "source": [
    "#standardize the data\n",
    "\n",
    "rfm_df=rfm_df-rfm_df.mean()\n",
    "rfm_df=rfm_df-rfm_df.std()"
   ]
  },
  {
   "cell_type": "code",
   "execution_count": 8,
   "metadata": {
    "id": "OqOlBXkKNihk"
   },
   "outputs": [],
   "source": [
    "#import the KMeans function\n",
    "from sklearn.cluster import KMeans"
   ]
  },
  {
   "cell_type": "code",
   "execution_count": 9,
   "metadata": {
    "id": "sH-U5135Nqi7"
   },
   "outputs": [
    {
     "data": {
      "text/html": [
       "<style>#sk-container-id-1 {color: black;background-color: white;}#sk-container-id-1 pre{padding: 0;}#sk-container-id-1 div.sk-toggleable {background-color: white;}#sk-container-id-1 label.sk-toggleable__label {cursor: pointer;display: block;width: 100%;margin-bottom: 0;padding: 0.3em;box-sizing: border-box;text-align: center;}#sk-container-id-1 label.sk-toggleable__label-arrow:before {content: \"▸\";float: left;margin-right: 0.25em;color: #696969;}#sk-container-id-1 label.sk-toggleable__label-arrow:hover:before {color: black;}#sk-container-id-1 div.sk-estimator:hover label.sk-toggleable__label-arrow:before {color: black;}#sk-container-id-1 div.sk-toggleable__content {max-height: 0;max-width: 0;overflow: hidden;text-align: left;background-color: #f0f8ff;}#sk-container-id-1 div.sk-toggleable__content pre {margin: 0.2em;color: black;border-radius: 0.25em;background-color: #f0f8ff;}#sk-container-id-1 input.sk-toggleable__control:checked~div.sk-toggleable__content {max-height: 200px;max-width: 100%;overflow: auto;}#sk-container-id-1 input.sk-toggleable__control:checked~label.sk-toggleable__label-arrow:before {content: \"▾\";}#sk-container-id-1 div.sk-estimator input.sk-toggleable__control:checked~label.sk-toggleable__label {background-color: #d4ebff;}#sk-container-id-1 div.sk-label input.sk-toggleable__control:checked~label.sk-toggleable__label {background-color: #d4ebff;}#sk-container-id-1 input.sk-hidden--visually {border: 0;clip: rect(1px 1px 1px 1px);clip: rect(1px, 1px, 1px, 1px);height: 1px;margin: -1px;overflow: hidden;padding: 0;position: absolute;width: 1px;}#sk-container-id-1 div.sk-estimator {font-family: monospace;background-color: #f0f8ff;border: 1px dotted black;border-radius: 0.25em;box-sizing: border-box;margin-bottom: 0.5em;}#sk-container-id-1 div.sk-estimator:hover {background-color: #d4ebff;}#sk-container-id-1 div.sk-parallel-item::after {content: \"\";width: 100%;border-bottom: 1px solid gray;flex-grow: 1;}#sk-container-id-1 div.sk-label:hover label.sk-toggleable__label {background-color: #d4ebff;}#sk-container-id-1 div.sk-serial::before {content: \"\";position: absolute;border-left: 1px solid gray;box-sizing: border-box;top: 0;bottom: 0;left: 50%;z-index: 0;}#sk-container-id-1 div.sk-serial {display: flex;flex-direction: column;align-items: center;background-color: white;padding-right: 0.2em;padding-left: 0.2em;position: relative;}#sk-container-id-1 div.sk-item {position: relative;z-index: 1;}#sk-container-id-1 div.sk-parallel {display: flex;align-items: stretch;justify-content: center;background-color: white;position: relative;}#sk-container-id-1 div.sk-item::before, #sk-container-id-1 div.sk-parallel-item::before {content: \"\";position: absolute;border-left: 1px solid gray;box-sizing: border-box;top: 0;bottom: 0;left: 50%;z-index: -1;}#sk-container-id-1 div.sk-parallel-item {display: flex;flex-direction: column;z-index: 1;position: relative;background-color: white;}#sk-container-id-1 div.sk-parallel-item:first-child::after {align-self: flex-end;width: 50%;}#sk-container-id-1 div.sk-parallel-item:last-child::after {align-self: flex-start;width: 50%;}#sk-container-id-1 div.sk-parallel-item:only-child::after {width: 0;}#sk-container-id-1 div.sk-dashed-wrapped {border: 1px dashed gray;margin: 0 0.4em 0.5em 0.4em;box-sizing: border-box;padding-bottom: 0.4em;background-color: white;}#sk-container-id-1 div.sk-label label {font-family: monospace;font-weight: bold;display: inline-block;line-height: 1.2em;}#sk-container-id-1 div.sk-label-container {text-align: center;}#sk-container-id-1 div.sk-container {/* jupyter's `normalize.less` sets `[hidden] { display: none; }` but bootstrap.min.css set `[hidden] { display: none !important; }` so we also need the `!important` here to be able to override the default hidden behavior on the sphinx rendered scikit-learn.org. See: https://github.com/scikit-learn/scikit-learn/issues/21755 */display: inline-block !important;position: relative;}#sk-container-id-1 div.sk-text-repr-fallback {display: none;}</style><div id=\"sk-container-id-1\" class=\"sk-top-container\"><div class=\"sk-text-repr-fallback\"><pre>KMeans(random_state=744)</pre><b>In a Jupyter environment, please rerun this cell to show the HTML representation or trust the notebook. <br />On GitHub, the HTML representation is unable to render, please try loading this page with nbviewer.org.</b></div><div class=\"sk-container\" hidden><div class=\"sk-item\"><div class=\"sk-estimator sk-toggleable\"><input class=\"sk-toggleable__control sk-hidden--visually\" id=\"sk-estimator-id-1\" type=\"checkbox\" checked><label for=\"sk-estimator-id-1\" class=\"sk-toggleable__label sk-toggleable__label-arrow\">KMeans</label><div class=\"sk-toggleable__content\"><pre>KMeans(random_state=744)</pre></div></div></div></div></div>"
      ],
      "text/plain": [
       "KMeans(random_state=744)"
      ]
     },
     "execution_count": 9,
     "metadata": {},
     "output_type": "execute_result"
    }
   ],
   "source": [
    "#choose random state as 744 and fit the data in it\n",
    "\n",
    "kmeans=KMeans(random_state=744)\n",
    "kmeans.fit(rfm_df)"
   ]
  },
  {
   "cell_type": "code",
   "execution_count": 29,
   "metadata": {
    "id": "WmELvaRuOKUR"
   },
   "outputs": [
    {
     "data": {
      "text/html": [
       "<div>\n",
       "<style scoped>\n",
       "    .dataframe tbody tr th:only-of-type {\n",
       "        vertical-align: middle;\n",
       "    }\n",
       "\n",
       "    .dataframe tbody tr th {\n",
       "        vertical-align: top;\n",
       "    }\n",
       "\n",
       "    .dataframe thead th {\n",
       "        text-align: right;\n",
       "    }\n",
       "</style>\n",
       "<table border=\"1\" class=\"dataframe\">\n",
       "  <thead>\n",
       "    <tr style=\"text-align: right;\">\n",
       "      <th></th>\n",
       "      <th>0</th>\n",
       "      <th>1</th>\n",
       "      <th>2</th>\n",
       "    </tr>\n",
       "  </thead>\n",
       "  <tbody>\n",
       "    <tr>\n",
       "      <th>1</th>\n",
       "      <td>-2773.580961</td>\n",
       "      <td>-154.623268</td>\n",
       "      <td>-52.849749</td>\n",
       "    </tr>\n",
       "    <tr>\n",
       "      <th>2</th>\n",
       "      <td>702.392410</td>\n",
       "      <td>36.159018</td>\n",
       "      <td>-161.748650</td>\n",
       "    </tr>\n",
       "    <tr>\n",
       "      <th>3</th>\n",
       "      <td>8230.937381</td>\n",
       "      <td>149.960260</td>\n",
       "      <td>-174.460175</td>\n",
       "    </tr>\n",
       "    <tr>\n",
       "      <th>4</th>\n",
       "      <td>4563.047238</td>\n",
       "      <td>100.303117</td>\n",
       "      <td>-170.169699</td>\n",
       "    </tr>\n",
       "    <tr>\n",
       "      <th>5</th>\n",
       "      <td>-1461.580935</td>\n",
       "      <td>-70.976832</td>\n",
       "      <td>-143.483483</td>\n",
       "    </tr>\n",
       "    <tr>\n",
       "      <th>6</th>\n",
       "      <td>-506.316223</td>\n",
       "      <td>-14.335421</td>\n",
       "      <td>-156.261808</td>\n",
       "    </tr>\n",
       "    <tr>\n",
       "      <th>7</th>\n",
       "      <td>2344.415129</td>\n",
       "      <td>75.354083</td>\n",
       "      <td>-172.933791</td>\n",
       "    </tr>\n",
       "    <tr>\n",
       "      <th>8</th>\n",
       "      <td>-2227.123343</td>\n",
       "      <td>-115.243648</td>\n",
       "      <td>-119.181828</td>\n",
       "    </tr>\n",
       "  </tbody>\n",
       "</table>\n",
       "</div>"
      ],
      "text/plain": [
       "             0           1           2\n",
       "1 -2773.580961 -154.623268  -52.849749\n",
       "2   702.392410   36.159018 -161.748650\n",
       "3  8230.937381  149.960260 -174.460175\n",
       "4  4563.047238  100.303117 -170.169699\n",
       "5 -1461.580935  -70.976832 -143.483483\n",
       "6  -506.316223  -14.335421 -156.261808\n",
       "7  2344.415129   75.354083 -172.933791\n",
       "8 -2227.123343 -115.243648 -119.181828"
      ]
     },
     "execution_count": 29,
     "metadata": {},
     "output_type": "execute_result"
    }
   ],
   "source": [
    "#store the cluster labels in pandas series 'a'\n",
    "\n",
    "M=kmeans.cluster_centers_\n",
    "M=pd.DataFrame(a, index=np.arange(kmeans.n_clusters)+1)\n",
    "M"
   ]
  },
  {
   "cell_type": "code",
   "execution_count": 35,
   "metadata": {},
   "outputs": [],
   "source": [
    "a=kmeans.labels_+1\n",
    "a=pd.Series(a)"
   ]
  },
  {
   "cell_type": "code",
   "execution_count": 36,
   "metadata": {},
   "outputs": [
    {
     "data": {
      "text/plain": [
       "1    1888\n",
       "2     207\n",
       "3      42\n",
       "4      70\n",
       "5     569\n",
       "6     346\n",
       "7     111\n",
       "8    1060\n",
       "dtype: int64"
      ]
     },
     "execution_count": 36,
     "metadata": {},
     "output_type": "execute_result"
    }
   ],
   "source": [
    "a.value_counts().sort_index()"
   ]
  },
  {
   "cell_type": "code",
   "execution_count": 37,
   "metadata": {},
   "outputs": [
    {
     "name": "stdout",
     "output_type": "stream",
     "text": [
      "Cluster 1 has the maximum number of observations\n"
     ]
    }
   ],
   "source": [
    "print('Cluster', a.mode().values[0], 'has the maximum number of observations')"
   ]
  },
  {
   "cell_type": "markdown",
   "metadata": {
    "id": "bMM2vHCSPeYl"
   },
   "source": [
    "**Q3** - Now, use the elbow method to choose the best value of K. First, calculate the SSE using the inertia_ variable for the default number of clusters and mark the correct option given below: (Round of the answer to the nearest two digits)\n",
    "\n",
    "a. 1826.55\n",
    "\n",
    "b. 1596.87\n",
    "\n",
    "c. 1707.01\n",
    "\n",
    "d. 1856.35\n"
   ]
  },
  {
   "cell_type": "code",
   "execution_count": 38,
   "metadata": {
    "id": "d9Vi6ssTJD7e"
   },
   "outputs": [
    {
     "data": {
      "text/plain": [
       "405019807.43132263"
      ]
     },
     "execution_count": 38,
     "metadata": {},
     "output_type": "execute_result"
    }
   ],
   "source": [
    "# write your code here\n",
    "\n",
    "SSE = kmeans.inertia_\n",
    "SSE\n"
   ]
  },
  {
   "cell_type": "code",
   "execution_count": 41,
   "metadata": {},
   "outputs": [
    {
     "data": {
      "text/plain": [
       "405019807.4313226"
      ]
     },
     "execution_count": 41,
     "metadata": {},
     "output_type": "execute_result"
    }
   ],
   "source": [
    "np.sum(np.sum((rfm_df-M.loc[a].values)**2, axis=1))"
   ]
  },
  {
   "cell_type": "markdown",
   "metadata": {
    "id": "aKJ60faZPNr1"
   },
   "source": [
    "**Q4** - Specify the maximum K value as 8 and random_state as 0. Plot the elbow curve, and based on the curve, which of the following value of K will be the ideal number of clusters for the data set?\n",
    "\n",
    "a. K = 7\n",
    "\n",
    "b. K = 5\n",
    "\n",
    "c. K = 3"
   ]
  },
  {
   "cell_type": "code",
   "execution_count": 43,
   "metadata": {
    "id": "WFKx2cBFQF-z"
   },
   "outputs": [],
   "source": [
    "# Specify the maximum K value as 8\n",
    "n_k_values = 8"
   ]
  },
  {
   "cell_type": "code",
   "execution_count": 44,
   "metadata": {
    "id": "NCsvgpcsRlf5"
   },
   "outputs": [],
   "source": [
    "# Specify the random state as 0\n",
    "random_state=0"
   ]
  },
  {
   "cell_type": "code",
   "execution_count": 45,
   "metadata": {
    "id": "ozS3rnCuRowU"
   },
   "outputs": [],
   "source": [
    "# Create a dictionary in which you will store the estimated K-means objects\n",
    "kmeans_objects={}"
   ]
  },
  {
   "cell_type": "code",
   "execution_count": 46,
   "metadata": {
    "id": "uPmBWp0GRulm"
   },
   "outputs": [],
   "source": [
    "# Create a pandas series in which you will store the SSE values for each K-means object\n",
    "kmeans_sse=pd.Series(data=np.zeros(n_k_values), index=np.arange(n_k_values)+1)"
   ]
  },
  {
   "cell_type": "code",
   "execution_count": 49,
   "metadata": {
    "id": "PVhGVa1OP8CI"
   },
   "outputs": [
    {
     "name": "stdout",
     "output_type": "stream",
     "text": [
      "Done with:k = 1\n",
      "Done with:k = 2\n",
      "Done with:k = 3\n",
      "Done with:k = 4\n",
      "Done with:k = 5\n",
      "Done with:k = 6\n",
      "Done with:k = 7\n",
      "Done with:k = 8\n"
     ]
    }
   ],
   "source": [
    "# perform K-means clustering for the values k = 1, 2, ..., 8 using for loop\n",
    "\n",
    "for k in range(1, n_k_values+1):\n",
    "    \n",
    "    # fix your random state\n",
    "    kmeans=KMeans(n_clusters=k, random_state=random_state).fit(rfm_df)\n",
    "    \n",
    "    # save the kmeans object in the dictionary at key k\n",
    "    kmeans_objects[k]=kmeans\n",
    "\n",
    "    # save the kmeans SSE value at location k\n",
    "    kmeans_sse.loc[k]=kmeans.inertia_\n",
    "    \n",
    "    print('Done with:k =', k)\n",
    "  "
   ]
  },
  {
   "cell_type": "code",
   "execution_count": 50,
   "metadata": {
    "id": "_pGT-c4WQJpm"
   },
   "outputs": [
    {
     "data": {
      "image/png": "[encoded data removed]",
      "text/plain": [
       "<Figure size 432x432 with 1 Axes>"
      ]
     },
     "metadata": {},
     "output_type": "display_data"
    }
   ],
   "source": [
    "#plot the elbow curve\n",
    "\n",
    "plt.figure(figsize=(6,6))\n",
    "\n",
    "plt.title('Elbow')\n",
    "plt.ylabel('SSE')\n",
    "plt.xlabel('k')\n",
    "\n",
    "sns.lineplot(x=range(1, n_k_values + 1), y=kmeans_sse, marker='o', markersize=12)\n",
    "\n",
    "plt.xticks(range(1, n_k_values+1))\n",
    "plt.show()"
   ]
  },
  {
   "cell_type": "markdown",
   "metadata": {
    "id": "YEZGV_gSemno"
   },
   "source": [
    "**Q5** - Choose K = 3 and do the K-means clustering. How many observations does cluster 2 have?\n",
    "\n",
    "a. 499\n",
    "\n",
    "b. 2726\n",
    "\n",
    "c. 1068\n",
    "\n",
    "d. None of these\n"
   ]
  },
  {
   "cell_type": "code",
   "execution_count": 51,
   "metadata": {
    "id": "NVV-VjJrSM--"
   },
   "outputs": [],
   "source": [
    "# Get K-means object for K=3\n",
    "kmeans=kmeans_objects[3]"
   ]
  },
  {
   "cell_type": "code",
   "execution_count": 52,
   "metadata": {
    "id": "zYD-Oaz7SNRE"
   },
   "outputs": [
    {
     "ename": "NameError",
     "evalue": "name 'variable_labels' is not defined",
     "output_type": "error",
     "traceback": [
      "\u001b[1;31m---------------------------------------------------------------------------\u001b[0m",
      "\u001b[1;31mNameError\u001b[0m                                 Traceback (most recent call last)",
      "\u001b[1;32m~\\AppData\\Local\\Temp/ipykernel_25672/2300193785.py\u001b[0m in \u001b[0;36m<module>\u001b[1;34m\u001b[0m\n\u001b[0;32m      1\u001b[0m \u001b[1;31m# Extract the cluster means\u001b[0m\u001b[1;33m\u001b[0m\u001b[1;33m\u001b[0m\u001b[0m\n\u001b[0;32m      2\u001b[0m \u001b[0mM\u001b[0m\u001b[1;33m=\u001b[0m\u001b[0mkmeans\u001b[0m\u001b[1;33m.\u001b[0m\u001b[0mcluster_centers_\u001b[0m\u001b[1;33m\u001b[0m\u001b[1;33m\u001b[0m\u001b[0m\n\u001b[1;32m----> 3\u001b[1;33m \u001b[0mM\u001b[0m\u001b[1;33m=\u001b[0m\u001b[0mpd\u001b[0m\u001b[1;33m.\u001b[0m\u001b[0mDataFrame\u001b[0m\u001b[1;33m(\u001b[0m\u001b[0mM\u001b[0m\u001b[1;33m,\u001b[0m \u001b[0mindex\u001b[0m\u001b[1;33m=\u001b[0m\u001b[0mnp\u001b[0m\u001b[1;33m.\u001b[0m\u001b[0marange\u001b[0m\u001b[1;33m(\u001b[0m\u001b[0mkmeans\u001b[0m\u001b[1;33m.\u001b[0m\u001b[0mn_clusters\u001b[0m\u001b[1;33m)\u001b[0m\u001b[1;33m+\u001b[0m\u001b[1;36m1\u001b[0m\u001b[1;33m,\u001b[0m \u001b[0mcolumns\u001b[0m\u001b[1;33m=\u001b[0m\u001b[0mvariable_labels\u001b[0m\u001b[1;33m)\u001b[0m\u001b[1;33m\u001b[0m\u001b[1;33m\u001b[0m\u001b[0m\n\u001b[0m",
      "\u001b[1;31mNameError\u001b[0m: name 'variable_labels' is not defined"
     ]
    }
   ],
   "source": [
    "# Extract the cluster means\n",
    "M=kmeans.cluster_centers_\n",
    "M=pd.DataFrame(M, index=np.arange(kmeans.n_clusters)+1, columns=variable_labels)"
   ]
  },
  {
   "cell_type": "code",
   "execution_count": 53,
   "metadata": {
    "id": "L-ScI0KfSR0O"
   },
   "outputs": [],
   "source": [
    "# Extract the cluster assignments\n",
    "a=kmeans.labels_+1\n",
    "a=pd.Series(a)"
   ]
  },
  {
   "cell_type": "markdown",
   "metadata": {
    "id": "oaFO94W0W_hl"
   },
   "source": [
    "**Q6 -**  Now we have three different clusters with each clusters having different charactersitcs. Among the three obtained clusters, the company wants to offer heavy discounts for the group of customers having least average amount spent. Which cluster they should choose?\n",
    "\n",
    "a. Cluster 1\n",
    "\n",
    "b. Cluster 2\n",
    "\n",
    "c. Cluster 3"
   ]
  },
  {
   "cell_type": "code",
   "execution_count": 21,
   "metadata": {
    "id": "DMqxtwiuZyN-"
   },
   "outputs": [],
   "source": [
    "#append the cluster assignment to the unstandardized data set"
   ]
  },
  {
   "cell_type": "markdown",
   "metadata": {
    "id": "GO6sena0mvLA"
   },
   "source": [
    "**Q7**  - Perform hierarchical clustering using linkage function. Now based on the resultant clustering, which two clusters will get merged first?\n",
    "\n",
    "a. 127 and 467\n",
    "\n",
    "b. 1364 and 3082\n",
    "\n",
    "c. 3302 and 4299\n",
    "\n",
    "d. 2512 and 3647\n"
   ]
  },
  {
   "cell_type": "code",
   "execution_count": 22,
   "metadata": {
    "id": "ukNfZ7g45EmF"
   },
   "outputs": [],
   "source": [
    "# import linkage function and dendrogram \n",
    "\n",
    "from scipy.cluster.hierarchy import linkage, dendogram\n"
   ]
  },
  {
   "cell_type": "code",
   "execution_count": 23,
   "metadata": {
    "id": "WN1CyPfF5zQd"
   },
   "outputs": [],
   "source": [
    "#fit the standardized data in linkage function and perform hierarchical clustering\n",
    "numpy_Z=linkage(rfm_df)"
   ]
  },
  {
   "cell_type": "code",
   "execution_count": 24,
   "metadata": {
    "id": "PrqEpSkcTayE"
   },
   "outputs": [],
   "source": [
    "#create a DataFrame using the results of the hierarchical clustering\n",
    "Z=pd.DataFrame(numpy_Z, columns=[])"
   ]
  },
  {
   "cell_type": "markdown",
   "metadata": {
    "id": "qg8-OWxAqEom"
   },
   "source": [
    "**Q8** - In the previous steps, you applied the linkage function using the default linkage method which is single linkage, in which the last pair of clusters that got merged were cluster no. 561 and 8583. Now use the complete linkage method and find out which two clusters will get merged at the end.\n",
    "\n",
    "a. 8737 and 8738\n",
    "\n",
    "b. 3758 and 8734\n",
    "\n",
    "c. 8735 and 8739\n",
    "\n",
    "d. 8582 and 8583\n"
   ]
  },
  {
   "cell_type": "code",
   "execution_count": 25,
   "metadata": {
    "id": "ltIqfKX56mCx"
   },
   "outputs": [],
   "source": [
    "# perform hierarchical clustering using complete linkage method"
   ]
  }
 ],
 "metadata": {
  "colab": {
   "name": "Stub-3.7_Graded_Assessment.ipynb",
   "provenance": []
  },
  "kernelspec": {
   "display_name": "Python 3 (ipykernel)",
   "language": "python",
   "name": "python3"
  },
  "language_info": {
   "codemirror_mode": {
    "name": "ipython",
    "version": 3
   },
   "file_extension": ".py",
   "mimetype": "text/x-python",
   "name": "python",
   "nbconvert_exporter": "python",
   "pygments_lexer": "ipython3",
   "version": "3.9.7"
  }
 },
 "nbformat": 4,
 "nbformat_minor": 1
}
